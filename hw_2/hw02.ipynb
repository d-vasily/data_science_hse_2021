{
 "cells": [
  {
   "cell_type": "markdown",
   "metadata": {},
   "source": [
    "# В конце этого семинара - домашка!"
   ]
  },
  {
   "cell_type": "markdown",
   "metadata": {},
   "source": [
    "# PyTorch"
   ]
  },
  {
   "cell_type": "markdown",
   "metadata": {},
   "source": [
    "## __Tensors__"
   ]
  },
  {
   "cell_type": "markdown",
   "metadata": {},
   "source": [
    "Одно из основных понятий в PyTorch -- это __Tenosor__. \n",
    "\n",
    "https://pytorch.org/docs/master/tensors.html\n",
    "\n",
    "__Tensor__ -- это такой же массив, как и в __numpy.array__, размерность и тип данных которого мы можем задать. Tensor в отличие от numpy.array может вычисляться на __GPU__."
   ]
  },
  {
   "cell_type": "code",
   "execution_count": 1,
   "metadata": {},
   "outputs": [],
   "source": [
    "import numpy as np\n",
    "# import torch\n",
    "import matplotlib.pyplot as plt\n",
    "import seaborn as sns\n",
    "\n",
    "import warnings         # чтобы никто не мешал бесчинствам с кодом\n",
    "warnings.filterwarnings(\"ignore\") # обработка всевозсожных warnings путем их игнорирования\n",
    "\n",
    "plt.style.use('ggplot')\n",
    "%matplotlib inline"
   ]
  },
  {
   "cell_type": "code",
   "execution_count": 2,
   "metadata": {},
   "outputs": [
    {
     "data": {
      "text/plain": [
       "[<matplotlib.lines.Line2D at 0x1c0e21a5520>]"
      ]
     },
     "execution_count": 2,
     "metadata": {},
     "output_type": "execute_result"
    },
    {
     "data": {
      "image/png": "[encoded data removed]",
      "text/plain": [
       "<Figure size 432x288 with 1 Axes>"
      ]
     },
     "metadata": {
      "needs_background": "light"
     },
     "output_type": "display_data"
    }
   ],
   "source": [
    "plt.plot([0,1], [0,1])"
   ]
  },
  {
   "cell_type": "code",
   "execution_count": 3,
   "metadata": {},
   "outputs": [],
   "source": [
    "def plot(histories):\n",
    "    plt.figure(figsize=(16,10))\n",
    "    for name, val_loss in histories:\n",
    "        plt.plot(val_loss, label=name)\n",
    "    plt.legend()\n",
    "    plt.show()"
   ]
  },
  {
   "cell_type": "code",
   "execution_count": 4,
   "metadata": {},
   "outputs": [],
   "source": [
    "import torch\n",
    "\n",
    "\n",
    "dtype = torch.float\n",
    "device = torch.device(\"cpu\")\n",
    "# device = torch.device(\"cuda:0\") # Uncomment this to run on GPU\n"
   ]
  },
  {
   "cell_type": "markdown",
   "metadata": {},
   "source": [
    "# Домашние задание"
   ]
  },
  {
   "cell_type": "markdown",
   "metadata": {},
   "source": [
    "1. Добавить Bias и посчитать для них градиенты.\n",
    "2. Сравнить градинеты с тем, как считает PyTorch AutoGrad."
   ]
  },
  {
   "cell_type": "code",
   "execution_count": 5,
   "metadata": {},
   "outputs": [],
   "source": [
    "batch_size = 64\n",
    "input_size = 3\n",
    "hidden_size = 2\n",
    "output_size = 1\n",
    "\n",
    "# Create random input and output data\n",
    "x = torch.randn(batch_size, input_size, device=device, dtype=dtype)\n",
    "y = torch.randn(batch_size, output_size, device=device, dtype=dtype)\n",
    "\n",
    "# Randomly initialize weights\n",
    "w1_0 = torch.randn(input_size, hidden_size, device=device, dtype=dtype, requires_grad=True)\n",
    "w2_0 = torch.randn(hidden_size, output_size, device=device, dtype=dtype, requires_grad=True)\n",
    "\n",
    "# Randomly initialize bias\n",
    "b1_0 = torch.randn(batch_size, hidden_size, device=device, dtype=dtype, requires_grad=True)\n",
    "b2_0 = torch.randn(batch_size, output_size, device=device, dtype=dtype, requires_grad=True)"
   ]
  },
  {
   "cell_type": "code",
   "execution_count": null,
   "metadata": {},
   "outputs": [],
   "source": []
  },
  {
   "cell_type": "code",
   "execution_count": 6,
   "metadata": {},
   "outputs": [
    {
     "data": {
      "text/plain": [
       "array([1.])"
      ]
     },
     "execution_count": 6,
     "metadata": {},
     "output_type": "execute_result"
    }
   ],
   "source": [
    "l = np.array([])\n",
    "l = np.append(l, 1)\n",
    "l"
   ]
  },
  {
   "cell_type": "markdown",
   "metadata": {},
   "source": [
    "### selfmade"
   ]
  },
  {
   "cell_type": "code",
   "execution_count": 7,
   "metadata": {},
   "outputs": [],
   "source": [
    "w1 = w1_0.clone()\n",
    "w2 = w2_0.clone()\n",
    "b1 = b1_0.clone()\n",
    "b2 = b2_0.clone()\n",
    "loss_self = []"
   ]
  },
  {
   "cell_type": "code",
   "execution_count": 8,
   "metadata": {},
   "outputs": [
    {
     "name": "stdout",
     "output_type": "stream",
     "text": [
      "Loss on iteration 0 = 358.76470947265625\n",
      "Loss on iteration 100 = 121.79983520507812\n",
      "Loss on iteration 200 = 106.83665466308594\n",
      "Loss on iteration 300 = 100.30138397216797\n",
      "Loss on iteration 400 = 95.46304321289062\n",
      "Loss on iteration 500 = 91.2611083984375\n",
      "Loss on iteration 600 = 87.3628921508789\n",
      "Loss on iteration 700 = 83.67595672607422\n",
      "Loss on iteration 800 = 80.15921020507812\n",
      "Loss on iteration 900 = 76.7910385131836\n",
      "Loss on iteration 1000 = 73.56005096435547\n"
     ]
    }
   ],
   "source": [
    "learning_rate = 1e-4\n",
    "for t in range(1001):\n",
    "    # Forward pass: compute predicted y\n",
    "    #TODO\n",
    "    h_1 = x.mm(w1) + b1\n",
    "    h_relu = h_1.clamp(min=0)\n",
    "    out = h_relu.mm(w2) + b2\n",
    "    \n",
    "    # Compute and print loss\n",
    "    loss = (out - y).pow(2).sum().item()\n",
    "    \n",
    "    # Backward pass: \n",
    "    dloss_dout = 2 * (out - y)\n",
    "    \n",
    "    grad_h_1 = dloss_dout.mm(w2.t())\n",
    "    grad_h_1[h_1 < 0] = 0\n",
    "    \n",
    "    grad_w2 = h_relu.t().mm(dloss_dout) \n",
    "    grad_b2 = dloss_dout\n",
    "    \n",
    "    grad_w1 = x.t().mm(grad_h_1)\n",
    "    grad_b1 = grad_h_1\n",
    "    \n",
    "    w1 -= learning_rate * grad_w1\n",
    "    w2 -= learning_rate * grad_w2\n",
    "    b1 -= learning_rate * grad_b1\n",
    "    b2 -= learning_rate * grad_b2\n",
    "    if t % 20 == 0:\n",
    "        loss_self.append(loss)\n",
    "    if t % 100 == 0:\n",
    "        print('Loss on iteration {} = {}'.format(t, loss))\n",
    "    "
   ]
  },
  {
   "cell_type": "markdown",
   "metadata": {},
   "source": [
    "### PyTorch AutoGrad"
   ]
  },
  {
   "cell_type": "code",
   "execution_count": 9,
   "metadata": {},
   "outputs": [],
   "source": [
    "w1 = w1_0\n",
    "w2 = w2_0\n",
    "b1 = b1_0\n",
    "b2 = b2_0\n",
    "loss_auto = []"
   ]
  },
  {
   "cell_type": "code",
   "execution_count": 10,
   "metadata": {},
   "outputs": [
    {
     "name": "stdout",
     "output_type": "stream",
     "text": [
      "0 358.76470947265625\n",
      "100 344.5483703613281\n",
      "200 331.10321044921875\n",
      "300 318.398193359375\n",
      "400 306.322265625\n",
      "500 294.83447265625\n",
      "600 283.89739990234375\n",
      "700 273.476806640625\n",
      "800 263.543212890625\n",
      "900 254.073486328125\n",
      "1000 245.02890014648438\n"
     ]
    }
   ],
   "source": [
    "import torch.optim as optim\n",
    "\n",
    "loss_fn = torch.nn.MSELoss(reduction='sum')\n",
    "\n",
    "learning_rate = 1e-4\n",
    "optimizer = torch.optim.Adam([w1, w2, b1, b2], lr=learning_rate)\n",
    "\n",
    "for t in range(1001):\n",
    "    optimizer.zero_grad()\n",
    "    \n",
    "    y_pred = (x.mm(w1) + b1).clamp(min=0).mm(w2) + b2\n",
    "    \n",
    "    loss = loss_fn(y_pred, y)\n",
    "    if t % 20 == 0:\n",
    "        loss_auto.append(loss.item())\n",
    "    if t % 100 == 0:\n",
    "        print(t, loss.item())\n",
    "    \n",
    "    loss.backward()\n",
    "   \n",
    "    optimizer.step()"
   ]
  },
  {
   "cell_type": "code",
   "execution_count": 11,
   "metadata": {},
   "outputs": [
    {
     "data": {
      "image/png": "[encoded data removed]",
      "text/plain": [
       "<Figure size 1152x720 with 1 Axes>"
      ]
     },
     "metadata": {
      "needs_background": "light"
     },
     "output_type": "display_data"
    }
   ],
   "source": [
    "plot([('Self made', loss_self), \n",
    "      ('Auto with adam', loss_auto)])\n"
   ]
  },
  {
   "cell_type": "markdown",
   "metadata": {},
   "source": [
    "В данном случае обычный градиентный спуск работает лучше Адама. В более осмыленных или сложных случаях Адам скорее всего будет лучше."
   ]
  }
 ],
 "metadata": {
  "kernelspec": {
   "display_name": "Python 3 (ipykernel)",
   "language": "python",
   "name": "python3"
  },
  "language_info": {
   "codemirror_mode": {
    "name": "ipython",
    "version": 3
   },
   "file_extension": ".py",
   "mimetype": "text/x-python",
   "name": "python",
   "nbconvert_exporter": "python",
   "pygments_lexer": "ipython3",
   "version": "3.9.7"
  }
 },
 "nbformat": 4,
 "nbformat_minor": 4
}
