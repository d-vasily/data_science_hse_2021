{
  "cells": [
    {
      "cell_type": "markdown",
      "metadata": {
        "id": "view-in-github",
        "colab_type": "text"
      },
      "source": [
        "<a href=\"https://colab.research.google.com/github/d-vasily/hse_deep_learning/blob/hw_02/hw_2/hw02.ipynb\" target=\"_parent\"><img src=\"https://colab.research.google.com/assets/colab-badge.svg\" alt=\"Open In Colab\"/></a>"
      ]
    },
    {
      "cell_type": "markdown",
      "metadata": {
        "id": "Hao0tqjn3IBt"
      },
      "source": [
        "# В конце этого семинара - домашка!"
      ]
    },
    {
      "cell_type": "markdown",
      "metadata": {
        "id": "P205XyHR3IBz"
      },
      "source": [
        "# PyTorch"
      ]
    },
    {
      "cell_type": "markdown",
      "metadata": {
        "id": "IAPJ4_YR3IB0"
      },
      "source": [
        "## __Tensors__"
      ]
    },
    {
      "cell_type": "markdown",
      "metadata": {
        "id": "7oRz_fi43IB1"
      },
      "source": [
        "Одно из основных понятий в PyTorch -- это __Tenosor__. \n",
        "\n",
        "https://pytorch.org/docs/master/tensors.html\n",
        "\n",
        "__Tensor__ -- это такой же массив, как и в __numpy.array__, размерность и тип данных которого мы можем задать. Tensor в отличие от numpy.array может вычисляться на __GPU__."
      ]
    },
    {
      "cell_type": "code",
      "execution_count": null,
      "metadata": {
        "id": "dMBjI7zJ3IB3"
      },
      "outputs": [],
      "source": [
        "import numpy as np\n",
        "# import torch\n",
        "import matplotlib.pyplot as plt\n",
        "import seaborn as sns\n",
        "\n",
        "import warnings         # чтобы никто не мешал бесчинствам с кодом\n",
        "warnings.filterwarnings(\"ignore\") # обработка всевозсожных warnings путем их игнорирования\n",
        "\n",
        "plt.style.use('ggplot')\n",
        "%matplotlib inline"
      ]
    },
    {
      "cell_type": "code",
      "execution_count": null,
      "metadata": {
        "colab": {
          "base_uri": "https://localhost:8080/",
          "height": 283
        },
        "id": "PoGx3Bdd3IB5",
        "outputId": "5752e376-4289-4ac2-8b98-a4ffcd9ab250"
      },
      "outputs": [
        {
          "output_type": "execute_result",
          "data": {
            "text/plain": [
              "[<matplotlib.lines.Line2D at 0x7f9a3ee7c350>]"
            ]
          },
          "metadata": {},
          "execution_count": 2
        },
        {
          "output_type": "display_data",
          "data": {
            "text/plain": [
              "<Figure size 432x288 with 1 Axes>"
            ],
            "image/png": "[encoded data removed]"
          },
          "metadata": {
            "needs_background": "light"
          }
        }
      ],
      "source": [
        "plt.plot([0,1], [0,1])"
      ]
    },
    {
      "cell_type": "code",
      "execution_count": null,
      "metadata": {
        "id": "ZlGsmToP3IB6"
      },
      "outputs": [],
      "source": [
        "def plot(histories):\n",
        "    plt.figure(figsize=(16,10))\n",
        "    for name, val_loss in histories:\n",
        "        plt.plot(val_loss, label=name)\n",
        "    plt.legend()\n",
        "    plt.show()"
      ]
    },
    {
      "cell_type": "code",
      "execution_count": null,
      "metadata": {
        "id": "fAOKMty23IB8"
      },
      "outputs": [],
      "source": [
        "import torch\n",
        "\n",
        "\n",
        "dtype = torch.float\n",
        "device = torch.device(\"cpu\")\n",
        "# device = torch.device(\"cuda:0\") # Uncomment this to run on GPU\n"
      ]
    },
    {
      "cell_type": "markdown",
      "metadata": {
        "id": "_mtOFBgW3IB9"
      },
      "source": [
        "# Домашние задание"
      ]
    },
    {
      "cell_type": "markdown",
      "metadata": {
        "id": "PbphLUvF3IB-"
      },
      "source": [
        "1. Добавить Bias и посчитать для них градиенты.\n",
        "2. Сравнить градинеты с тем, как считает PyTorch AutoGrad."
      ]
    },
    {
      "cell_type": "code",
      "execution_count": null,
      "metadata": {
        "id": "VSW6YDR33IB-"
      },
      "outputs": [],
      "source": [
        "batch_size = 64\n",
        "input_size = 3\n",
        "hidden_size = 2\n",
        "output_size = 1\n",
        "\n",
        "# Create random input and output data\n",
        "x = torch.randn(batch_size, input_size, device=device, dtype=dtype)\n",
        "y = torch.randn(batch_size, output_size, device=device, dtype=dtype)\n",
        "\n",
        "# Randomly initialize weights\n",
        "w1_0 = torch.randn(input_size, hidden_size, device=device, dtype=dtype, requires_grad=True)\n",
        "w2_0 = torch.randn(hidden_size, output_size, device=device, dtype=dtype, requires_grad=True)\n",
        "\n",
        "# Randomly initialize bias\n",
        "b1_0 = torch.randn(1, hidden_size, device=device, dtype=dtype, requires_grad=True)\n",
        "b2_0 = torch.randn(1, output_size, device=device, dtype=dtype, requires_grad=True)"
      ]
    },
    {
      "cell_type": "code",
      "execution_count": null,
      "metadata": {
        "id": "djEsf4SM3IB_"
      },
      "outputs": [],
      "source": [
        ""
      ]
    },
    {
      "cell_type": "markdown",
      "metadata": {
        "id": "2HGna7OF3ICA"
      },
      "source": [
        "### selfmade"
      ]
    },
    {
      "cell_type": "code",
      "execution_count": null,
      "metadata": {
        "id": "Oq61J2iI3ICB"
      },
      "outputs": [],
      "source": [
        "w1 = w1_0.clone()\n",
        "w2 = w2_0.clone()\n",
        "b1 = b1_0.clone()\n",
        "b2 = b2_0.clone()\n",
        "loss_self = []"
      ]
    },
    {
      "cell_type": "code",
      "execution_count": null,
      "metadata": {
        "colab": {
          "base_uri": "https://localhost:8080/"
        },
        "id": "zSe0WBW53ICB",
        "outputId": "b6bf49d2-ca7a-492c-aaf7-b3df63e017d9"
      },
      "outputs": [
        {
          "output_type": "stream",
          "name": "stdout",
          "text": [
            "Loss on iteration 0 = 917.59326171875\n",
            "Loss on iteration 100 = 75.75376892089844\n",
            "Loss on iteration 200 = 67.88298034667969\n",
            "Loss on iteration 300 = 64.62751770019531\n",
            "Loss on iteration 400 = 62.98029708862305\n",
            "Loss on iteration 500 = 62.21332550048828\n",
            "Loss on iteration 600 = 61.83816146850586\n",
            "Loss on iteration 700 = 61.58525085449219\n",
            "Loss on iteration 800 = 61.41177749633789\n",
            "Loss on iteration 900 = 61.26057052612305\n",
            "Loss on iteration 1000 = 61.1065559387207\n"
          ]
        }
      ],
      "source": [
        "learning_rate = 1e-4\n",
        "for t in range(1001):\n",
        "    # Forward pass: compute predicted y\n",
        "    #TODO\n",
        "    h_1 = x.mm(w1) + b1\n",
        "    h_relu = h_1.clamp(min=0)\n",
        "    out = h_relu.mm(w2) + b2\n",
        "    \n",
        "    # Compute and print loss\n",
        "    loss = (out - y).pow(2).sum().item()\n",
        "    \n",
        "    # Backward pass: \n",
        "    dloss_dout = 2 * (out - y)\n",
        "    \n",
        "    grad_h_1 = dloss_dout.mm(w2.t())\n",
        "    grad_h_1[h_1 < 0] = 0\n",
        "    \n",
        "    grad_w2 = h_relu.t().mm(dloss_dout) \n",
        "    grad_b2 = dloss_dout\n",
        "    \n",
        "    grad_w1 = x.t().mm(grad_h_1)\n",
        "    grad_b1 = grad_h_1\n",
        "    \n",
        "    w1 -= learning_rate * grad_w1\n",
        "    w2 -= learning_rate * grad_w2\n",
        "    b1 -= learning_rate * grad_b1.sum()\n",
        "    b2 -= learning_rate * grad_b2.sum()\n",
        "    if t % 20 == 0:\n",
        "        loss_self.append(loss)\n",
        "    if t % 100 == 0:\n",
        "        print('Loss on iteration {} = {}'.format(t, loss))\n",
        "    "
      ]
    },
    {
      "cell_type": "markdown",
      "metadata": {
        "id": "542PB4J13ICC"
      },
      "source": [
        "### PyTorch AutoGrad"
      ]
    },
    {
      "cell_type": "code",
      "execution_count": null,
      "metadata": {
        "id": "CtCRyx9V3ICC"
      },
      "outputs": [],
      "source": [
        "w1 = w1_0\n",
        "w2 = w2_0\n",
        "b1 = b1_0\n",
        "b2 = b2_0\n",
        "loss_auto = []"
      ]
    },
    {
      "cell_type": "code",
      "execution_count": null,
      "metadata": {
        "colab": {
          "base_uri": "https://localhost:8080/"
        },
        "id": "-3vfL6Il3ICD",
        "outputId": "1a773cce-3e03-4222-bc99-dd4493c3cbe3"
      },
      "outputs": [
        {
          "output_type": "stream",
          "name": "stdout",
          "text": [
            "0 917.59326171875\n",
            "100 77.57720947265625\n",
            "200 71.0570068359375\n",
            "300 67.52696228027344\n",
            "400 65.16240692138672\n",
            "500 63.45138931274414\n",
            "600 62.04493713378906\n",
            "700 61.295143127441406\n",
            "800 60.86152267456055\n",
            "900 60.50575637817383\n",
            "1000 60.293724060058594\n"
          ]
        }
      ],
      "source": [
        "learning_rate = 1e-4\n",
        "for t in range(1001):\n",
        "    y_pred = (x.mm(w1) + b1).clamp(min=0).mm(w2) + b2\n",
        "    loss = (y_pred - y).pow(2).sum()\n",
        "    if t % 100 == 0:\n",
        "        print(t, loss.item())\n",
        "    \n",
        "    # Теперь подсчет градиентов для весов происходит при вызове backward\n",
        "    loss.backward()\n",
        "   \n",
        "    # Обновляем значение весов, но укзаываем, чтобы PyTorch не считал эту операцию, \n",
        "    # которая бы учавствовала бы при подсчете градиентов в chain rule\n",
        "    with torch.no_grad():          \n",
        "        w1 -= learning_rate * w1.grad\n",
        "        w2 -= learning_rate * w2.grad\n",
        "        b1 -= learning_rate * b1.grad\n",
        "        b2 -= learning_rate * b2.grad\n",
        "        \n",
        "        # Теперь обнуляем значение градиентов, чтобы на следующем шаге \n",
        "        # они не учитывались при подсчете новых градиентов,\n",
        "        # иначе произойдет суммирвоание старых и новых градиентов\n",
        "        w1.grad.zero_()\n",
        "        w2.grad.zero_()\n",
        "        b1.grad.zero_()\n",
        "        b2.grad.zero_()"
      ]
    },
    {
      "cell_type": "markdown",
      "source": [
        "Есть небольшие различия, скорее всего из-за округлений в математических операциях."
      ],
      "metadata": {
        "id": "1CTJEL-z51NE"
      }
    }
  ],
  "metadata": {
    "kernelspec": {
      "display_name": "Python 3 (ipykernel)",
      "language": "python",
      "name": "python3"
    },
    "language_info": {
      "codemirror_mode": {
        "name": "ipython",
        "version": 3
      },
      "file_extension": ".py",
      "mimetype": "text/x-python",
      "name": "python",
      "nbconvert_exporter": "python",
      "pygments_lexer": "ipython3",
      "version": "3.9.7"
    },
    "colab": {
      "name": "hw02.ipynb",
      "provenance": [],
      "collapsed_sections": [],
      "include_colab_link": true
    }
  },
  "nbformat": 4,
  "nbformat_minor": 0
}