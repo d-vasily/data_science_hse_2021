{
 "cells": [
  {
   "cell_type": "markdown",
   "id": "b2901933",
   "metadata": {},
   "source": [
    "## New Year Transportation \n",
    "\n",
    "New Year is coming in Line World! In this world, there are n cells numbered by integers from 1 to n, as a 1 × n board. People live in cells. However, it was hard to move between distinct cells, because of the difficulty of escaping the cell. People wanted to meet people who live in other cells.\n",
    "\n",
    "So, user tncks0121 has made a transportation system to move between these cells, to celebrate the New Year. First, he thought of n - 1 positive integers a1, a2, ..., an - 1. For every integer i where 1 ≤ i ≤ n - 1 the condition 1 ≤ a_i ≤ n - i holds. Next, he made n - 1 portals, numbered by integers from 1 to n - 1. The i-th (1 ≤ i ≤ n - 1) portal connects cell i and cell (i + a_i), and one can travel from cell i to cell (i + a_i) using the i-th portal. Unfortunately, one cannot use the portal backwards, which means one cannot move from cell (i + a_i) to cell i using the i-th portal. It is easy to see that because of condition 1 ≤ a_i ≤ n - i one can't leave the Line World using portals.\n",
    "\n",
    "Currently, I am standing at cell 1, and I want to go to cell t. However, I don't know whether it is possible to go there. Please determine whether I can go to cell t by only using the construted transportation system.\n",
    "\n",
    "\n",
    "Input\n",
    "\n",
    "The first line contains two space-separated integers n (3 ≤ n ≤ 3 × 104) and t (2 ≤ t ≤ n) — the number of cells, and the index of the cell which I want to go to.\n",
    "\n",
    "The second line contains n - 1 space-separated integers a_1, a_2, ..., a_n-1 (1 ≤ a_i ≤ n - i). It is guaranteed, that using the given transportation system, one cannot leave the Line World.\n",
    "Output\n",
    "\n",
    "If I can go to cell t using the transportation system, print \"YES\". Otherwise, print \"NO\"."
   ]
  },
  {
   "cell_type": "code",
   "execution_count": 2,
   "id": "2bd27f19",
   "metadata": {},
   "outputs": [
    {
     "name": "stdout",
     "output_type": "stream",
     "text": [
      "8 5\n",
      "1 2 1 2 1 2 1\n",
      "NO\n"
     ]
    }
   ],
   "source": [
    "n, t = map(int, input().split())\n",
    "l = list(map(int, input().split()))\n",
    "t -= 1\n",
    "i = 0\n",
    "while (i < t):\n",
    "    i += l[i]\n",
    "s = 'YES'\n",
    "if (i != t):\n",
    "    s = 'NO'\n",
    "print(s)"
   ]
  },
  {
   "cell_type": "markdown",
   "id": "8abb00c7",
   "metadata": {},
   "source": [
    "## Rook, Bishop and King \n",
    "\n",
    "Petya is thinking about the following problem: what minimum number of moves is needed for each of these pieces to move from field (r1, c1) to field (r2, c2)? At that, we assume that there are no more pieces besides this one on the board. Help him solve this problem.\n",
    "\n",
    "Input\n",
    "\n",
    "The input contains four integers r1, c1, r2, c2 (1 ≤ r1, c1, r2, c2 ≤ 8) — the coordinates of the starting and the final field. The starting field doesn't coincide with the final one.\n",
    "\n",
    "You can assume that the chessboard rows are numbered from top to bottom 1 through 8, and the columns are numbered from left to right 1 through 8.\n",
    "\n",
    "\n",
    "Output\n",
    "\n",
    "Print three space-separated integers: the minimum number of moves the rook, the bishop and the king (in this order) is needed to move from field (r1, c1) to field (r2, c2). If a piece cannot make such a move, print a 0 instead of the corresponding number."
   ]
  },
  {
   "cell_type": "code",
   "execution_count": 7,
   "id": "41204d98",
   "metadata": {},
   "outputs": [
    {
     "name": "stdout",
     "output_type": "stream",
     "text": [
      "5 5 5 6\n",
      "1 0 1\n"
     ]
    }
   ],
   "source": [
    "r1, c1, r2, c2 = map(int, input().split())\n",
    "rook = (r2 != r1) + (c1 != c2)\n",
    "bishop, king = 0, 0\n",
    "if (r2 - c2) == (r1 - c1) or (r2 + c2) == (r1 + c1):\n",
    "    bishop = 1\n",
    "elif (r1 + c1) % 2 == (r2 + c2) % 2:\n",
    "    bishop = 2\n",
    "delta_r = 1 - 2 * (r2 < r1)\n",
    "delta_c = 1 - 2 * (c2 < c1)\n",
    "while (r2 != r1 and c2 != c1):\n",
    "    r1 += delta_r\n",
    "    c1 += delta_c\n",
    "    king += 1\n",
    "king += (r2 - r1) * delta_r + (c2 - c1) * delta_c\n",
    "print(rook, bishop, king)"
   ]
  },
  {
   "cell_type": "markdown",
   "id": "390d7122",
   "metadata": {},
   "source": [
    "## Two Buttons \n",
    "\n",
    "Vasya has found a strange device. On the front panel of a device there are: a red button, a blue button and a display showing some positive integer. After clicking the red button, device multiplies the displayed number by two. After clicking the blue button, device subtracts one from the number on the display. If at some point the number stops being positive, the device breaks down. The display can show arbitrarily large numbers. Initially, the display shows number n.\n",
    "\n",
    "Bob wants to get number m on the display. What minimum number of clicks he has to make in order to achieve this result?\n",
    "Input\n",
    "\n",
    "The first and the only line of the input contains two distinct integers n and m (1 ≤ n, m ≤ 104), separated by a space .\n",
    "Output\n",
    "\n",
    "Print a single number — the minimum number of times one needs to push the button required to get the number m out of number n."
   ]
  },
  {
   "cell_type": "code",
   "execution_count": 23,
   "id": "57adc60d",
   "metadata": {},
   "outputs": [
    {
     "name": "stdout",
     "output_type": "stream",
     "text": [
      "5 1\n",
      "4\n"
     ]
    }
   ],
   "source": [
    "n, m = map(int, input().split())\n",
    "res = 0\n",
    "while (m > n):\n",
    "    if (m % 2):\n",
    "        m += 1\n",
    "        res += 1\n",
    "    m //= 2\n",
    "    res += 1\n",
    "res += n - m\n",
    "print(res)"
   ]
  },
  {
   "cell_type": "markdown",
   "id": "ea3c921f",
   "metadata": {},
   "source": [
    "## Dijkstra\n",
    "\n",
    "You are given a weighted undirected graph. The vertices are enumerated from 1 to n. Your task is to find the shortest path between the vertex 1 and the vertex n.\n",
    "Input\n",
    "\n",
    "The first line contains two integers n and m (2 ≤ n ≤ 105, 0 ≤ m ≤ 105), where n is the number of vertices and m is the number of edges. Following m lines contain one edge each in form ai, bi and wi (1 ≤ a_i, b_i ≤ n, 1 ≤ w_i ≤ 10**6), where a_i, b_i are edge endpoints and wi is the length of the edge.\n",
    "\n",
    "It is possible that the graph has loops and multiple edges between pair of vertices.\n",
    "Output\n",
    "\n",
    "Write the only integer -1 in case of no path. Write the shortest path in opposite case. If there are many solutions, print any of them."
   ]
  },
  {
   "cell_type": "code",
   "execution_count": 3,
   "id": "0cc61724",
   "metadata": {},
   "outputs": [],
   "source": [
    "class dijkstra_struct:\n",
    "    def __init__(self, limit=100):\n",
    "        # self.lst - heap\n",
    "        # self.lst[i][0] - distance to vertex, self.lst[i][1] - vertex number\n",
    "        self.lst = [None] * (limit + 1)\n",
    "        # i - i-th vertex in self.vert\n",
    "        # self.vert[i][0] - dist, self.vert[i][1] - previous vertex, \n",
    "        # self.vert[i][2] - visited or not,  self.vert[i][3] - index in self.lst\n",
    "        self.vert = [None] * (limit + 1)\n",
    "        self.size = 0\n",
    "    \n",
    "    \n",
    "    def swap(self, i, j):\n",
    "        #swap elements in heap\n",
    "        self.lst[i], self.lst[j] = self.lst[j], self.lst[i]\n",
    "        i = self.lst[i][1]\n",
    "        j = self.lst[j][1]\n",
    "        #swap position in heap for two vertex\n",
    "        self.vert[i][3], self.vert[j][3] = self.vert[j][3], self.vert[i][3]\n",
    "    \n",
    "    \n",
    "    def push_up(self, ind):\n",
    "        par = ind // 2\n",
    "        while (ind > 1 and self.lst[ind][0] < self.lst[par][0]):\n",
    "            self.swap(ind, par)\n",
    "            ind = par\n",
    "            par //= 2\n",
    "    \n",
    "    \n",
    "    def push_down(self, ind):\n",
    "        child_1 = ind * 2\n",
    "        while (child_1 <= self.size):\n",
    "            min_child = child_1\n",
    "            if (child_1 + 1 <= self.size):\n",
    "                # if right child > left child: min_child += 1\n",
    "                a = self.lst[child_1][0] > self.lst[child_1 + 1][0]\n",
    "                min_child += a\n",
    "            # if current elem < min_child: swap them\n",
    "            if self.lst[min_child][0] < self.lst[ind][0]:\n",
    "                self.swap(ind, min_child)\n",
    "                ind = min_child\n",
    "                child_1 = ind * 2\n",
    "            else:\n",
    "                return\n",
    "\n",
    "                \n",
    "    def add_elem(self, dist, vert):\n",
    "        self.size += 1\n",
    "        # if lst over, double it`s size\n",
    "        if (self.size > len(self.lst) - 1):\n",
    "            self.lst += [None] * self.size\n",
    "        \n",
    "        ind = self.size\n",
    "        # record elem in heap\n",
    "        self.lst[ind] = [dist, vert]\n",
    "        # record vertex heap position\n",
    "        self.vert[vert][3] = ind\n",
    "        # change heap position\n",
    "        self.push_up(ind)\n",
    "    \n",
    "    \n",
    "    # change information about vert in heap\n",
    "    def alter(self, vert):\n",
    "        # find index in heap\n",
    "        lst_ind = self.vert[vert][3]\n",
    "        # record new distance in heap\n",
    "        self.lst[lst_ind][0] = self.vert[vert][0]\n",
    "        # change heap position\n",
    "        self.push_up(lst_ind)\n",
    "    \n",
    "    \n",
    "    def pop(self):\n",
    "        if (self.size == 0):\n",
    "            return (-1)\n",
    "        # find vertex with min distance, swap with last elem\n",
    "        min_ind = self.lst[1][1]\n",
    "        self.swap(1, self.size)\n",
    "        self.size -= 1\n",
    "        # if there are more than 1 elem, push down new first elem\n",
    "        if (self.size > 1):\n",
    "            self.push_down(1)\n",
    "        self.vert[min_ind][3] = None\n",
    "        return(min_ind)"
   ]
  },
  {
   "cell_type": "code",
   "execution_count": 34,
   "id": "5313a770",
   "metadata": {},
   "outputs": [],
   "source": [
    "def input_graph(n, m):\n",
    "    lst = [None] * (n + 1)\n",
    "    for _ in range(m):        \n",
    "        a, b, w = map(int, input().split())\n",
    "        if lst[a] == None:\n",
    "            lst[a] = [[b, w]]\n",
    "        else:\n",
    "            lst[a].append([b, w])\n",
    "        if lst[b] == None:\n",
    "            lst[b] = [[a, w]]\n",
    "        else:\n",
    "            lst[b].append([a, w])\n",
    "    return lst\n",
    "\n",
    "# i - i-th vertex\n",
    "# data.vert[i][0] - dist, data.vert[i][1] - previous vertex, \n",
    "# data.vert[i][2] - visited or not, data.vert[i][3] - index in self.lst\n",
    "def dijkstra_alg(lst, data):\n",
    "    data.vert[1] = [0, 0, 1, None]\n",
    "    data.add_elem(0, 1)\n",
    "    if (lst[1] == None):\n",
    "        return\n",
    "    while (data.size > 0):\n",
    "        # take vertex with min distance\n",
    "        cur_vert = data.pop()\n",
    "        # for each related vertex change distance if it`s necessary\n",
    "        for elem in lst[cur_vert]:\n",
    "            next_vert = elem[0]\n",
    "            # count general distance through cur_vert\n",
    "            dist = data.vert[cur_vert][0] + elem[1]\n",
    "            \n",
    "            # if it`s new vertex, record data\n",
    "            if data.vert[next_vert] == None:\n",
    "                data.vert[next_vert] = [dist, cur_vert, 0, None]\n",
    "                data.add_elem(dist, next_vert)\n",
    "\n",
    "            # if new way was found, change data\n",
    "            elif data.vert[next_vert][0] > dist:\n",
    "                data.vert[next_vert][0] = dist\n",
    "                data.vert[next_vert][1] = cur_vert\n",
    "                data.alter(next_vert)\n"
   ]
  },
  {
   "cell_type": "code",
   "execution_count": 5,
   "id": "54fd097c",
   "metadata": {},
   "outputs": [],
   "source": [
    "def main(n, m, lst=None):\n",
    "    if (lst == None):\n",
    "        lst = input_graph(n, m)\n",
    "    data = dijkstra_struct(n)\n",
    "    dijkstra_alg(lst, data)\n",
    "    elem = data.vert[n]\n",
    "    if (elem == None):\n",
    "        print(-1)\n",
    "        return\n",
    "    tmp_lst = [None] * n\n",
    "    i = n\n",
    "    vert = n\n",
    "    while (data.vert[vert] != None):\n",
    "        i -= 1\n",
    "        tmp_lst[i] = vert\n",
    "        vert = data.vert[vert][1]\n",
    "    res = [0] * (n - i)\n",
    "    j = 0\n",
    "    while (i < n):\n",
    "        res[j] = tmp_lst[i]\n",
    "        print(tmp_lst[i], end=' ')\n",
    "        i += 1\n",
    "        j += 1\n",
    "    return(res)\n",
    "        # self.vert[i][0] - dist, self.vert[i][1] - previous vertex, \n",
    "        # self.vert[i][2] - visited or not,  self.vert[i][3] - index in self.lst"
   ]
  },
  {
   "cell_type": "code",
   "execution_count": 35,
   "id": "0316c727",
   "metadata": {},
   "outputs": [
    {
     "name": "stdout",
     "output_type": "stream",
     "text": [
      "-1\n"
     ]
    }
   ],
   "source": [
    "n, m = 6, 4\n",
    "lst = [None] * (n + 1)\n",
    "# lst[1] = [[2, 1], [4, 1]]\n",
    "lst[1] = None\n",
    "lst[2] = [[1, 1], [3, 1]]\n",
    "lst[3] = [[2, 1], [4, 1], [6, 1]]\n",
    "lst[4] = [[1, 1], [3, 1], [5, 1]]\n",
    "lst[5] = [[4, 1], [6, 1]]\n",
    "lst[6] = [[5, 1], [3, 1]]\n",
    "answer = main(n, m, lst)"
   ]
  },
  {
   "cell_type": "code",
   "execution_count": 25,
   "id": "353d6e13",
   "metadata": {},
   "outputs": [],
   "source": [
    "from random import randint\n",
    "\n",
    "def create_graph(n, lim_edges):\n",
    "    lst = [None] * (n + 1)\n",
    "    lst_edg = [0] * (n + 1)\n",
    "    for i in range(1, n + 1):\n",
    "        max_edg = randint(0, lim_edges)\n",
    "        print(max_edg)\n",
    "        for j in range(i + 1, n + 1):\n",
    "            max_edg_vert = randint(0, max_edg // n)\n",
    "            for k in range(max_edg_vert):\n",
    "            #print(f'i = {i}, j = {j}, max_edg = {max_edg}')\n",
    "                if (lst_edg[i] < max_edg_vert):\n",
    "                    lst_edg[i] += 1\n",
    "                    w = randint(1, 8)\n",
    "                    if (lst[i] == None):\n",
    "                        lst[i] = [[j, w]]\n",
    "                    else:\n",
    "                        lst[i].append([j, w])\n",
    "                    if (lst[j] == None):\n",
    "                        lst[j] = [[i, w]]\n",
    "                    else:\n",
    "                        lst[j].append([i, w])\n",
    "            #print(f'lst[i] = {lst[i]}, lst[j] = {lst[j]}')\n",
    "    return(lst)          "
   ]
  },
  {
   "cell_type": "code",
   "execution_count": 30,
   "id": "85d409f7",
   "metadata": {},
   "outputs": [
    {
     "name": "stdout",
     "output_type": "stream",
     "text": [
      "1\n",
      "7\n",
      "7\n",
      "7\n",
      "3\n",
      "[None, None, None, [[5, 3]], [[5, 4]], [[3, 3], [4, 4]]]\n",
      "[None, None, None, [[5, 3]], [[5, 4]], [[3, 3], [4, 4]]]\n",
      "[None, None, None, [[5, 3]], [[5, 4]], [[3, 3], [4, 4]]]\n",
      "[None, None, None, [[5, 3]], [[5, 4]], [[3, 3], [4, 4]]]\n",
      "[None, None, None, [[5, 3]], [[5, 4]], [[3, 3], [4, 4]]]\n",
      "[None, None, None, [[5, 3]], [[5, 4]], [[3, 3], [4, 4]]]\n"
     ]
    },
    {
     "ename": "TypeError",
     "evalue": "'NoneType' object is not iterable",
     "output_type": "error",
     "traceback": [
      "\u001b[0;31m---------------------------------------------------------------------------\u001b[0m",
      "\u001b[0;31mTypeError\u001b[0m                                 Traceback (most recent call last)",
      "\u001b[0;32m/tmp/ipykernel_5530/2845269618.py\u001b[0m in \u001b[0;36m<module>\u001b[0;34m\u001b[0m\n\u001b[1;32m     22\u001b[0m \u001b[0;34m\u001b[0m\u001b[0m\n\u001b[1;32m     23\u001b[0m \u001b[0;32mfor\u001b[0m \u001b[0mi\u001b[0m \u001b[0;32min\u001b[0m \u001b[0mrange\u001b[0m\u001b[0;34m(\u001b[0m\u001b[0;36m5\u001b[0m\u001b[0;34m,\u001b[0m \u001b[0;36m6\u001b[0m\u001b[0;34m)\u001b[0m\u001b[0;34m:\u001b[0m\u001b[0;34m\u001b[0m\u001b[0;34m\u001b[0m\u001b[0m\n\u001b[0;32m---> 24\u001b[0;31m      \u001b[0mchecker\u001b[0m\u001b[0;34m(\u001b[0m\u001b[0mi\u001b[0m\u001b[0;34m,\u001b[0m \u001b[0;36m7\u001b[0m\u001b[0;34m)\u001b[0m\u001b[0;34m\u001b[0m\u001b[0;34m\u001b[0m\u001b[0m\n\u001b[0m",
      "\u001b[0;32m/tmp/ipykernel_5530/2845269618.py\u001b[0m in \u001b[0;36mchecker\u001b[0;34m(n, lim_edge)\u001b[0m\n\u001b[1;32m      6\u001b[0m     \u001b[0;31m#     print(f'i = {i}, lst[i] = {graph[i]}')\u001b[0m\u001b[0;34m\u001b[0m\u001b[0;34m\u001b[0m\u001b[0m\n\u001b[1;32m      7\u001b[0m \u001b[0;34m\u001b[0m\u001b[0m\n\u001b[0;32m----> 8\u001b[0;31m     \u001b[0mres\u001b[0m \u001b[0;34m=\u001b[0m \u001b[0mmain\u001b[0m\u001b[0;34m(\u001b[0m\u001b[0mn\u001b[0m\u001b[0;34m,\u001b[0m \u001b[0;36m1\u001b[0m\u001b[0;34m,\u001b[0m \u001b[0mgraph\u001b[0m\u001b[0;34m)\u001b[0m\u001b[0;34m\u001b[0m\u001b[0;34m\u001b[0m\u001b[0m\n\u001b[0m\u001b[1;32m      9\u001b[0m     \u001b[0;32mif\u001b[0m \u001b[0;34m(\u001b[0m\u001b[0mres\u001b[0m \u001b[0;34m==\u001b[0m \u001b[0;32mNone\u001b[0m\u001b[0;34m)\u001b[0m\u001b[0;34m:\u001b[0m\u001b[0;34m\u001b[0m\u001b[0;34m\u001b[0m\u001b[0m\n\u001b[1;32m     10\u001b[0m         \u001b[0;32mreturn\u001b[0m\u001b[0;34m\u001b[0m\u001b[0;34m\u001b[0m\u001b[0m\n",
      "\u001b[0;32m/tmp/ipykernel_5530/1976418235.py\u001b[0m in \u001b[0;36mmain\u001b[0;34m(n, m, lst)\u001b[0m\n\u001b[1;32m      3\u001b[0m         \u001b[0mlst\u001b[0m \u001b[0;34m=\u001b[0m \u001b[0minput_graph\u001b[0m\u001b[0;34m(\u001b[0m\u001b[0mn\u001b[0m\u001b[0;34m,\u001b[0m \u001b[0mm\u001b[0m\u001b[0;34m)\u001b[0m\u001b[0;34m\u001b[0m\u001b[0;34m\u001b[0m\u001b[0m\n\u001b[1;32m      4\u001b[0m     \u001b[0mdata\u001b[0m \u001b[0;34m=\u001b[0m \u001b[0mdijkstra_struct\u001b[0m\u001b[0;34m(\u001b[0m\u001b[0mn\u001b[0m\u001b[0;34m)\u001b[0m\u001b[0;34m\u001b[0m\u001b[0;34m\u001b[0m\u001b[0m\n\u001b[0;32m----> 5\u001b[0;31m     \u001b[0mdijkstra_alg\u001b[0m\u001b[0;34m(\u001b[0m\u001b[0mlst\u001b[0m\u001b[0;34m,\u001b[0m \u001b[0mdata\u001b[0m\u001b[0;34m)\u001b[0m\u001b[0;34m\u001b[0m\u001b[0;34m\u001b[0m\u001b[0m\n\u001b[0m\u001b[1;32m      6\u001b[0m     \u001b[0melem\u001b[0m \u001b[0;34m=\u001b[0m \u001b[0mdata\u001b[0m\u001b[0;34m.\u001b[0m\u001b[0mvert\u001b[0m\u001b[0;34m[\u001b[0m\u001b[0mn\u001b[0m\u001b[0;34m]\u001b[0m\u001b[0;34m\u001b[0m\u001b[0;34m\u001b[0m\u001b[0m\n\u001b[1;32m      7\u001b[0m     \u001b[0;32mif\u001b[0m \u001b[0;34m(\u001b[0m\u001b[0melem\u001b[0m \u001b[0;34m==\u001b[0m \u001b[0;32mNone\u001b[0m\u001b[0;34m)\u001b[0m\u001b[0;34m:\u001b[0m\u001b[0;34m\u001b[0m\u001b[0;34m\u001b[0m\u001b[0m\n",
      "\u001b[0;32m/tmp/ipykernel_5530/1139805302.py\u001b[0m in \u001b[0;36mdijkstra_alg\u001b[0;34m(lst, data)\u001b[0m\n\u001b[1;32m     23\u001b[0m         \u001b[0mcur_vert\u001b[0m \u001b[0;34m=\u001b[0m \u001b[0mdata\u001b[0m\u001b[0;34m.\u001b[0m\u001b[0mpop\u001b[0m\u001b[0;34m(\u001b[0m\u001b[0;34m)\u001b[0m\u001b[0;34m\u001b[0m\u001b[0;34m\u001b[0m\u001b[0m\n\u001b[1;32m     24\u001b[0m         \u001b[0;31m# for each related vertex change distance if it`s necessary\u001b[0m\u001b[0;34m\u001b[0m\u001b[0;34m\u001b[0m\u001b[0m\n\u001b[0;32m---> 25\u001b[0;31m         \u001b[0;32mfor\u001b[0m \u001b[0melem\u001b[0m \u001b[0;32min\u001b[0m \u001b[0mlst\u001b[0m\u001b[0;34m[\u001b[0m\u001b[0mcur_vert\u001b[0m\u001b[0;34m]\u001b[0m\u001b[0;34m:\u001b[0m\u001b[0;34m\u001b[0m\u001b[0;34m\u001b[0m\u001b[0m\n\u001b[0m\u001b[1;32m     26\u001b[0m             \u001b[0mnext_vert\u001b[0m \u001b[0;34m=\u001b[0m \u001b[0melem\u001b[0m\u001b[0;34m[\u001b[0m\u001b[0;36m0\u001b[0m\u001b[0;34m]\u001b[0m\u001b[0;34m\u001b[0m\u001b[0;34m\u001b[0m\u001b[0m\n\u001b[1;32m     27\u001b[0m             \u001b[0;31m# count general distance through cur_vert\u001b[0m\u001b[0;34m\u001b[0m\u001b[0;34m\u001b[0m\u001b[0m\n",
      "\u001b[0;31mTypeError\u001b[0m: 'NoneType' object is not iterable"
     ]
    }
   ],
   "source": [
    "def checker(n, lim_edge):\n",
    "    graph = create_graph(n, lim_edge)\n",
    "    for elem in graph:\n",
    "        print(graph)\n",
    "    # for i in range(1, len(graph)):\n",
    "    #     print(f'i = {i}, lst[i] = {graph[i]}')\n",
    "\n",
    "    res = main(n, 1, graph)\n",
    "    if (res == None):\n",
    "        return\n",
    "    i = 0\n",
    "    while(i < len(res)):\n",
    "        vert = res[i]\n",
    "        if (vert == n):\n",
    "            print(\"ok\")\n",
    "            return\n",
    "        for elem in graph[vert]:\n",
    "            if (elem[0] == res[i + 1]):\n",
    "                i += 1\n",
    "                break\n",
    "    print(\"WRONG\")\n",
    "     \n",
    "for i in range(5, 6):\n",
    "     checker(i, 7)"
   ]
  }
 ],
 "metadata": {
  "kernelspec": {
   "display_name": "Python 3 (ipykernel)",
   "language": "python",
   "name": "python3"
  },
  "language_info": {
   "codemirror_mode": {
    "name": "ipython",
    "version": 3
   },
   "file_extension": ".py",
   "mimetype": "text/x-python",
   "name": "python",
   "nbconvert_exporter": "python",
   "pygments_lexer": "ipython3",
   "version": "3.10.1"
  }
 },
 "nbformat": 4,
 "nbformat_minor": 5
}
