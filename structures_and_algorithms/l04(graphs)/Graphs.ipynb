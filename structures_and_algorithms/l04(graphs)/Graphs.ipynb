{
 "cells": [
  {
   "cell_type": "markdown",
   "id": "e85a3691",
   "metadata": {},
   "source": [
    "Графы хранятся как списки связности или матрицы связности"
   ]
  },
  {
   "cell_type": "markdown",
   "id": "4cc900a7",
   "metadata": {},
   "source": [
    "Алгоритм Дейкстры\n",
    "\n",
    "https://habr.com/ru/post/111361/"
   ]
  },
  {
   "cell_type": "markdown",
   "id": "29a35634",
   "metadata": {},
   "source": [
    "Алгоритм Флойда-Уоршелла\n",
    "\n",
    "https://habr.com/ru/post/105825/"
   ]
  },
  {
   "cell_type": "markdown",
   "id": "10a9d7f0",
   "metadata": {},
   "source": [
    "Топологическая сортировка направленного графа с помощью dfs\n",
    "\n",
    "https://habr.com/ru/company/otus/blog/499138/"
   ]
  },
  {
   "cell_type": "markdown",
   "id": "0c9461af",
   "metadata": {},
   "source": [
    "Search bridge and point of articulation\n",
    "\n",
    "https://habr.com/ru/sandbox/150866/"
   ]
  }
 ],
 "metadata": {
  "kernelspec": {
   "display_name": "Python 3 (ipykernel)",
   "language": "python",
   "name": "python3"
  },
  "language_info": {
   "codemirror_mode": {
    "name": "ipython",
    "version": 3
   },
   "file_extension": ".py",
   "mimetype": "text/x-python",
   "name": "python",
   "nbconvert_exporter": "python",
   "pygments_lexer": "ipython3",
   "version": "3.9.9"
  }
 },
 "nbformat": 4,
 "nbformat_minor": 5
}
