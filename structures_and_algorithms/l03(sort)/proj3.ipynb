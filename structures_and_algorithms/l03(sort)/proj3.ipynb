{
 "cells": [
  {
   "cell_type": "markdown",
   "id": "b106f3fc",
   "metadata": {},
   "source": [
    "Дан список из N (N ≤ 2 * 10 ** 5) элементов,которые принимают целые значения от 0 до 100.\n",
    "\n",
    "Отсортируйте этот список в порядке неубывания элементов. Выведите полученный список.\n",
    "\n",
    "Решение оформите в виде функции CountSort(A), которая модифицирует передаваемый ей список.Использовать встроенные функции сортировки нельзя. "
   ]
  },
  {
   "cell_type": "code",
   "execution_count": 108,
   "id": "337b075b",
   "metadata": {},
   "outputs": [],
   "source": [
    "def CountSort(lst):\n",
    "    tmp_lst = [0] * 103\n",
    "    for elem in lst:\n",
    "        tmp_lst[elem] += 1\n",
    "    j = 0\n",
    "    for i in range(len(tmp_lst)):\n",
    "        if tmp_lst[i] > 0:\n",
    "            lst[j:j + tmp_lst[i]] = [i] * tmp_lst[i]\n",
    "            j += tmp_lst[i]"
   ]
  },
  {
   "cell_type": "markdown",
   "id": "5a699d25",
   "metadata": {},
   "source": [
    "Программа получает на вход набор точек на плоскости. Сначала задано количество точек n, затем идет последовательность из n строк, каждая из которых содержит два числа: координаты точки. Величина n не превосходит 100, все исходные координаты – целые числа, не превосходящие 103. \n",
    "\n",
    "\n",
    "Необходимо вывести все исходные точки в порядке возрастания их расстояний от начала координат. "
   ]
  },
  {
   "cell_type": "code",
   "execution_count": 8,
   "id": "7b81562f",
   "metadata": {},
   "outputs": [
    {
     "name": "stdout",
     "output_type": "stream",
     "text": [
      "3\n",
      "3 2\n",
      "1 2\n",
      "3 4\n"
     ]
    },
    {
     "data": {
      "text/plain": [
       "[[3, 2, 13], [1, 2, 5], [3, 4, 25]]"
      ]
     },
     "execution_count": 8,
     "metadata": {},
     "output_type": "execute_result"
    }
   ],
   "source": [
    "n = int(input())\n",
    "l = [None] * n\n",
    "for i in range(n):\n",
    "    a, b = map(int, input().split())\n",
    "    dist = a ** 2 + b ** 2\n",
    "    l[i] = [a, b, dist]"
   ]
  },
  {
   "cell_type": "code",
   "execution_count": 94,
   "id": "edb99ebb",
   "metadata": {},
   "outputs": [
    {
     "name": "stdout",
     "output_type": "stream",
     "text": [
      "[[1, 1, 2], [2, 2, 8], [1, 3, 10], [5, 1, 26], [5, 4, 41], [1, 7, 50], [2, 7, 53], [2, 8, 68], [7, 7, 98], [8, 8, 128]]\n",
      "1 1\n",
      "2 2\n",
      "1 3\n",
      "5 1\n",
      "5 4\n",
      "1 7\n",
      "2 7\n",
      "2 8\n",
      "7 7\n",
      "8 8\n",
      "ok\n"
     ]
    }
   ],
   "source": [
    "from random import randint\n",
    "import numpy as np\n",
    "\n",
    "def swap(l, i, j):\n",
    "    l[i], l[j] = l[j], l[i]\n",
    "\n",
    "def quick_sort(l, start=0, end=None):\n",
    "    if (end == None):\n",
    "        end = len(l) - 1\n",
    "    if (start > end - 1):\n",
    "        return\n",
    "    #print('\\nnew\\n')\n",
    "    pivot = randint(start, end)\n",
    "    i_l = start\n",
    "    i_r = end\n",
    "    #print(f'i_l = {i_l}, i_r = {i_r}, pivot = {pivot}')\n",
    "    while(i_l < pivot and i_r > pivot):\n",
    "        while(l[i_l][2] < l[pivot][2]):\n",
    "            i_l += 1\n",
    "        while(l[i_r][2] > l[pivot][2]):\n",
    "            i_r -= 1\n",
    "        if (i_l >= pivot or i_r <= pivot):\n",
    "            break\n",
    "        swap(l, i_l, i_r)\n",
    "        i_l += 1\n",
    "        i_r -= 1\n",
    "     #   print(l)\n",
    "    #print('i_l < pivot')\n",
    "    while(i_l < pivot):\n",
    "        while(l[i_l][2] < l[pivot][2]):\n",
    "            i_l += 1\n",
    "        swap(l, i_l, pivot - 1)\n",
    "        swap(l, pivot - 1, pivot)\n",
    "        pivot -= (i_l < pivot)\n",
    "     #   print(f'i_l = {i_l}, i_r = {i_r}, pivot = {pivot}, l = {l}')\n",
    "    #print('i_r > pivot')\n",
    "    while(i_r > pivot):\n",
    "        while(l[i_r][2] > l[pivot][2]):\n",
    "            i_r -= 1\n",
    "        swap(l, i_r, pivot + 1)\n",
    "        swap(l, pivot + 1, pivot)\n",
    "        pivot += (i_r > pivot)\n",
    "    quick_sort(l, pivot + 1, end)\n",
    "    quick_sort(l, start, pivot - 1)\n",
    "\n",
    "\n",
    "def check(l):\n",
    "    #print(l)\n",
    "    for i in range(1, len(l)):\n",
    "        if l[i][2] < l[i - 1][2]:\n",
    "            print(l, 'wrong\\n')\n",
    "            break\n",
    "\n",
    "def llst(ln):\n",
    "    l = [None] * ln\n",
    "    for i in range(ln):\n",
    "        a, b = randint(1, 10), randint(1, 10)\n",
    "        l[i] = [a, b, a ** 2 + b ** 2]\n",
    "    return l\n",
    "        \n",
    "        \n",
    "for i in range(1):\n",
    "    a = llst(10)\n",
    "    quick_sort(a)\n",
    "    check(a)\n",
    "    print(a)\n",
    "    for elem in a:\n",
    "        print (elem[0], elem[1])\n",
    "print('ok')"
   ]
  }
 ],
 "metadata": {
  "kernelspec": {
   "display_name": "Python 3 (ipykernel)",
   "language": "python",
   "name": "python3"
  },
  "language_info": {
   "codemirror_mode": {
    "name": "ipython",
    "version": 3
   },
   "file_extension": ".py",
   "mimetype": "text/x-python",
   "name": "python",
   "nbconvert_exporter": "python",
   "pygments_lexer": "ipython3",
   "version": "3.9.9"
  }
 },
 "nbformat": 4,
 "nbformat_minor": 5
}
