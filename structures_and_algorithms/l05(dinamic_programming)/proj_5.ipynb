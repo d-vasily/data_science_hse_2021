{
 "cells": [
  {
   "cell_type": "markdown",
   "id": "ad0c6f32",
   "metadata": {},
   "source": [
    "## A\n",
    "Petr has just bought a new car. He's just arrived at the most known Petersburg's petrol station to refuel it when he suddenly discovered that the petrol tank is secured with a combination lock! The lock has a scale of 360\n",
    "\n",
    "degrees and a pointer which initially points at zero:\n",
    "\n",
    "Petr called his car dealer, who instructed him to rotate the lock's wheel exactly n\n",
    "times. The i-th rotation should be ai degrees, either clockwise or counterclockwise, and after all n\n",
    "\n",
    "rotations the pointer should again point at zero.\n",
    "\n",
    "This confused Petr a little bit as he isn't sure which rotations should be done clockwise and which should be done counterclockwise. As there are many possible ways of rotating the lock, help him and find out whether there exists at least one, such that after all n\n",
    "\n",
    "rotations the pointer will point at zero again.\n",
    "Input\n",
    "\n",
    "The first line contains one integer n\n",
    "(1≤n≤15) — the number of rotations.\n",
    "\n",
    "Each of the following n\n",
    "lines contains one integer ai (1≤ai≤180) — the angle of the i\n",
    "\n",
    "-th rotation in degrees.\n",
    "Output\n",
    "\n",
    "If it is possible to do all the rotations so that the pointer will point at zero after all of them are performed, print a single word \"YES\". Otherwise, print \"NO\". Petr will probably buy a new car in this case.\n",
    "\n",
    "You can print each letter in any case (upper or lower)."
   ]
  },
  {
   "cell_type": "code",
   "execution_count": 4,
   "id": "3a7d241d",
   "metadata": {},
   "outputs": [],
   "source": [
    "def foo(n):\n",
    "    lst = [0] * 360\n",
    "    lst[0] = 1\n",
    "    for _ in range(n):\n",
    "        tmp_lst = [0] * 360\n",
    "        rotate = int(input())\n",
    "        for i in range(360):\n",
    "            if (lst[i] != 0):\n",
    "                tmp_lst[(i + rotate) % 360] = 1\n",
    "                tmp_lst[(i + 360 - rotate) % 360] = 1\n",
    "        lst = tmp_lst\n",
    "    if (lst[0] == 1):\n",
    "        return(\"YES\")\n",
    "    else:\n",
    "        return(\"NO\")"
   ]
  },
  {
   "cell_type": "code",
   "execution_count": 5,
   "id": "c16e56d8",
   "metadata": {},
   "outputs": [
    {
     "name": "stdout",
     "output_type": "stream",
     "text": [
      "3\n",
      "10\n",
      "20\n",
      "30\n",
      "YES\n"
     ]
    }
   ],
   "source": [
    "print(foo(int(input())))"
   ]
  },
  {
   "cell_type": "markdown",
   "id": "1ac9b2da",
   "metadata": {},
   "source": [
    "## B\n",
    "Kefa decided to make some money doing business on the Internet for exactly n days. He knows that on the i-th day (1 ≤ i ≤ n) he makes ai money. Kefa loves progress, that's why he wants to know the length of the maximum non-decreasing subsegment in sequence ai. Let us remind you that the subsegment of the sequence is its continuous fragment. A subsegment of numbers is called non-decreasing if all numbers in it follow in the non-decreasing order.\n",
    "\n",
    "Help Kefa cope with this task!\n",
    "Input\n",
    "\n",
    "The first line contains integer n (1 ≤ n ≤ 105).\n",
    "\n",
    "The second line contains n integers a1,  a2,  ...,  an (1 ≤ ai ≤ 109).\n",
    "Output\n",
    "\n",
    "Print a single integer — the length of the maximum non-decreasing subsegment of sequence a."
   ]
  },
  {
   "cell_type": "code",
   "execution_count": 6,
   "id": "fc883487",
   "metadata": {},
   "outputs": [
    {
     "name": "stdout",
     "output_type": "stream",
     "text": [
      "3\n",
      "2 2 9\n",
      "3\n"
     ]
    }
   ],
   "source": [
    "n = int(input())\n",
    "l = list(map(int, input().split()))\n",
    "l2 = [None] * len(l)\n",
    "l2[0] = 1\n",
    "res = 1\n",
    "for i in range(1, len(l)):\n",
    "    l2[i] = 1\n",
    "    if (l[i] >= l[i - 1]):\n",
    "        l2[i] = l2[i - 1] + 1\n",
    "    if (l2[i] > res):\n",
    "        res = l2[i]\n",
    "print(res)"
   ]
  },
  {
   "cell_type": "markdown",
   "id": "570ff092",
   "metadata": {},
   "source": [
    "## C\n",
    "Polycarpus has a ribbon, its length is n. He wants to cut the ribbon in a way that fulfils the following two conditions:\n",
    "\n",
    "    After the cutting each ribbon piece should have length a, b or c.\n",
    "    After the cutting the number of ribbon pieces should be maximum. \n",
    "\n",
    "Help Polycarpus and find the number of ribbon pieces after the required cutting.\n",
    "Input\n",
    "\n",
    "The first line contains four space-separated integers n, a, b and c (1 ≤ n, a, b, c ≤ 4000) — the length of the original ribbon and the acceptable lengths of the ribbon pieces after the cutting, correspondingly. The numbers a, b and c can coincide.\n",
    "Output\n",
    "\n",
    "Print a single number — the maximum possible number of ribbon pieces. It is guaranteed that at least one correct ribbon cutting exists."
   ]
  },
  {
   "cell_type": "code",
   "execution_count": 73,
   "id": "1ea2f67a",
   "metadata": {},
   "outputs": [
    {
     "name": "stdout",
     "output_type": "stream",
     "text": [
      "23 6 7 8\n",
      "3\n"
     ]
    }
   ],
   "source": [
    "n, a, b, c = map(int, input().split())\n",
    "abc = list(set([a, b, c]))\n",
    "\n",
    "lst = [0] * (n + 1)\n",
    "for i in range(len(lst)):\n",
    "    variants = []\n",
    "    for elem in abc:\n",
    "        if (i - elem > 0 and lst[i - elem] != 0):\n",
    "            variants.append(lst[i - elem] + 1)\n",
    "        elif (i - elem == 0):\n",
    "            variants.append(1)\n",
    "    if (len(variants) > 0):\n",
    "        lst[i] = max(variants)\n",
    "print (lst[n])"
   ]
  },
  {
   "cell_type": "markdown",
   "id": "a05ca943",
   "metadata": {},
   "source": [
    "## E\n",
    "\n",
    "Finally, a basketball court has been opened in SIS, so Demid has decided to hold a basketball exercise session. 2⋅n students have come to Demid's exercise session, and he lined up them into two rows of the same size (there are exactly n people in each row). Students are numbered from 1 to n\n",
    "\n",
    "in each row in order from left to right.\n",
    "\n",
    "Now Demid wants to choose a team to play basketball. He will choose players from left to right, and the index of each chosen player (excluding the first one taken) will be strictly greater than the index of the previously chosen player. To avoid giving preference to one of the rows, Demid chooses students in such a way that no consecutive chosen students belong to the same row. The first student can be chosen among all 2n\n",
    "\n",
    "students (there are no additional constraints), and a team can consist of any number of students.\n",
    "\n",
    "Demid thinks, that in order to compose a perfect team, he should choose students in such a way, that the total height of all chosen students is maximum possible. Help Demid to find the maximum possible total height of players in a team he can choose.\n",
    "Input\n",
    "\n",
    "The first line of the input contains a single integer n\n",
    "(1≤n≤105\n",
    "\n",
    ") — the number of students in each row.\n",
    "\n",
    "The second line of the input contains n\n",
    "integers h1,1,h1,2,…,h1,n (1≤h1,i≤109), where h1,i is the height of the i\n",
    "\n",
    "-th student in the first row.\n",
    "\n",
    "The third line of the input contains n\n",
    "integers h2,1,h2,2,…,h2,n (1≤h2,i≤109), where h2,i is the height of the i\n",
    "\n",
    "-th student in the second row.\n",
    "Output\n",
    "\n",
    "Print a single integer — the maximum possible total height of players in a team Demid can choose."
   ]
  },
  {
   "cell_type": "code",
   "execution_count": 14,
   "id": "198ef0b6",
   "metadata": {},
   "outputs": [
    {
     "name": "stdout",
     "output_type": "stream",
     "text": [
      "7\n"
     ]
    }
   ],
   "source": [
    "n = int(input())\n",
    "h1 = list(map(int, input().split()))\n",
    "h2 = list(map(int, input().split()))\n",
    "s = [None] * n\n",
    "s[0] = [h1[0], h2[0]]\n",
    "if (n > 1):\n",
    "    s[1] = [s[0][1] + h1[1], s[0][0] + h2[1]]\n",
    "for i in range(2, n):\n",
    "    a = max(s[i - 1][1], s[i - 2][1]) + h1[i]\n",
    "    b = max(s[i - 1][0], s[i - 2][0]) + h2[i]\n",
    "    s[i] = [a, b]\n",
    "print(max(s[n - 1]))"
   ]
  },
  {
   "cell_type": "markdown",
   "id": "b646fb61",
   "metadata": {},
   "source": [
    "## F\n",
    "Lavrenty, a baker, is going to make several buns with stuffings and sell them.\n",
    "\n",
    "Lavrenty has n grams of dough as well as m different stuffing types. The stuffing types are numerated from 1 to m. Lavrenty knows that he has ai grams left of the i-th stuffing. It takes exactly bi grams of stuffing i and ci grams of dough to cook a bun with the i-th stuffing. Such bun can be sold for di tugriks.\n",
    "\n",
    "Also he can make buns without stuffings. Each of such buns requires c0 grams of dough and it can be sold for d0 tugriks. So Lavrenty can cook any number of buns with different stuffings or without it unless he runs out of dough and the stuffings. Lavrenty throws away all excess material left after baking.\n",
    "\n",
    "Find the maximum number of tugriks Lavrenty can earn.\n",
    "Input\n",
    "\n",
    "The first line contains 4 integers n, m, c0 and d0 (1 ≤ n ≤ 1000, 1 ≤ m ≤ 10, 1 ≤ c0, d0 ≤ 100). Each of the following m lines contains 4 integers. The i-th line contains numbers ai, bi, ci and di (1 ≤ ai, bi, ci, di ≤ 100).\n",
    "Output\n",
    "\n",
    "Print the only number — the maximum number of tugriks Lavrenty can earn."
   ]
  },
  {
   "cell_type": "code",
   "execution_count": 31,
   "id": "9a6916f1",
   "metadata": {},
   "outputs": [],
   "source": [
    "def next_col(l, data):\n",
    "    res = [None] * len(l)\n",
    "    for i in range(2, len(l)):\n",
    "        if (l[i] == 0 or data[i - 2][0] > l[1]):\n",
    "            continue\n",
    "        res[i] = l.copy()\n",
    "        res[i][1] -= data[i - 2][0]\n",
    "        res[i][i] -= 1\n",
    "        res[i][2] = res[i][1] // data[0][0]\n",
    "        res[i][0] += data[i - 2][1]\n",
    "            \n",
    "    return (res)"
   ]
  },
  {
   "cell_type": "code",
   "execution_count": 32,
   "id": "ccc0d9b3",
   "metadata": {},
   "outputs": [],
   "source": [
    "def iteration(lst_res, cur_vars):\n",
    "    for var in cur_vars:\n",
    "        if (var == None or var[1] < 0 or var[0] >= len(lst_res)):\n",
    "            continue\n",
    "        i = var[0]\n",
    "        if (lst_res[i] == None or lst_res[i][1] < var[1]):\n",
    "            lst_res[i] = var\n",
    "        \n",
    "def count_lst_res(l, data, lim_cost):\n",
    "    lst_res = [None] * (lim_cost + 1)\n",
    "    lst_res[0] = l\n",
    "    max_cost = 0\n",
    "    \n",
    "    # l[0] - current cost; l[1] - current dough\n",
    "    # data[i][0] - needed dough amount ;  data[i][1] - bun cost\n",
    "    for i in range(len(lst_res)):\n",
    "        if (lst_res[i] == None):\n",
    "            continue\n",
    "        max_cost = i\n",
    "        cur_vars = next_col(lst_res[i], data)\n",
    "        iteration(lst_res, cur_vars)\n",
    "    return (max_cost, lst_res)"
   ]
  },
  {
   "cell_type": "code",
   "execution_count": 33,
   "id": "53ffc130",
   "metadata": {},
   "outputs": [],
   "source": [
    "def answer():   \n",
    "    n, m, c, d = map(int, input().split())\n",
    "    tmp_l = [None] * m\n",
    "    # l[0] - current cost(now it`s 0); l[1] - current dough(all)\n",
    "    l = [None] * (m + 3)\n",
    "    l[:3] = [0, n, n // c]\n",
    "    data = [None] * (m + 1)\n",
    "    data[0] = [c, d]\n",
    "    best_bun_i = -1\n",
    "    max_cost = d / c\n",
    "    for i in range(m):\n",
    "        tmp_l[i] = list(map(int, input().split()))\n",
    "        tmp_cost = tmp_l[i][3] / tmp_l[i][2]\n",
    "        l[i + 3] = tmp_l[i][0] // tmp_l[i][1]\n",
    "        data[i + 1] = [tmp_l[i][2], tmp_l[i][3]]\n",
    "        if (tmp_cost > max_cost):\n",
    "            best_bun_i = i\n",
    "            max_cost = tmp_cost\n",
    "    max_cost = int(max_cost * (n) + 2)\n",
    "    max_cost, lst_res = count_lst_res(l, data, max_cost)\n",
    "    print(max_cost)"
   ]
  },
  {
   "cell_type": "code",
   "execution_count": 34,
   "id": "bdfafd36",
   "metadata": {},
   "outputs": [
    {
     "name": "stdout",
     "output_type": "stream",
     "text": [
      "10 2 2 1\n",
      "7 3 2 100\n",
      "12 3 1 10\n",
      "241\n"
     ]
    }
   ],
   "source": [
    "answer()"
   ]
  },
  {
   "cell_type": "code",
   "execution_count": 26,
   "id": "5f7fc1b0",
   "metadata": {},
   "outputs": [
    {
     "name": "stdout",
     "output_type": "stream",
     "text": [
      "[2, 3, 5, 4, 8, 9, 6, 10, 7]\n",
      "2\n",
      "[3, 4, 5, 7, 8, 9, 6, 10]\n"
     ]
    }
   ],
   "source": [
    "import heapq as hq\n",
    "h = []\n",
    "st = set()\n",
    "for i in range(10, 1, -1):\n",
    "    if (i not in h):\n",
    "        hq.heappush(h, i)\n",
    "for i in range(10, 1, -1):\n",
    "     if (i not in h):\n",
    "        hq.heappush(h, i)\n",
    "print(h)      \n",
    "print(hq.heappop(h))\n",
    "print(h)"
   ]
  },
  {
   "cell_type": "code",
   "execution_count": 16,
   "id": "e1be045d",
   "metadata": {},
   "outputs": [
    {
     "name": "stdout",
     "output_type": "stream",
     "text": [
      "1\n"
     ]
    },
    {
     "data": {
      "text/plain": [
       "{1}"
      ]
     },
     "execution_count": 16,
     "metadata": {},
     "output_type": "execute_result"
    }
   ],
   "source": [
    "s = set()\n",
    "s.add(1)\n",
    "s.e\n",
    "if (1 in s):\n",
    "    print(1)\n",
    "s"
   ]
  }
 ],
 "metadata": {
  "kernelspec": {
   "display_name": "Python 3 (ipykernel)",
   "language": "python",
   "name": "python3"
  },
  "language_info": {
   "codemirror_mode": {
    "name": "ipython",
    "version": 3
   },
   "file_extension": ".py",
   "mimetype": "text/x-python",
   "name": "python",
   "nbconvert_exporter": "python",
   "pygments_lexer": "ipython3",
   "version": "3.10.1"
  }
 },
 "nbformat": 4,
 "nbformat_minor": 5
}
